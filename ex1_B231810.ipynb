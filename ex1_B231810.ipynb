{
  "cells": [
    {
      "cell_type": "markdown",
      "metadata": {
        "id": "view-in-github",
        "colab_type": "text"
      },
      "source": [
        "<a href=\"https://colab.research.google.com/github/mattu117117/POS/blob/main/ex1_B231810.ipynb\" target=\"_parent\"><img src=\"https://colab.research.google.com/assets/colab-badge.svg\" alt=\"Open In Colab\"/></a>"
      ]
    },
    {
      "cell_type": "markdown",
      "source": [
        "## ex1-1 ダウンロードしたファイルex1_B123456.ipynb のファイル名を自分の学生番号に変更する。"
      ],
      "metadata": {
        "id": "WbcAKx1g-wVz"
      }
    },
    {
      "cell_type": "markdown",
      "source": [
        "## ex1-2 Colab に上記ファイルをアップロードし開く。"
      ],
      "metadata": {
        "id": "jzb9wlWT_-4i"
      }
    },
    {
      "cell_type": "markdown",
      "source": [
        "## ex1-3 Python を使用するメリットを５つ挙げ、それぞれを30字程度説明してください。\n",
        "\n",
        "(ここをダブルクリックして、ここに解答を書いてください。)\n"
      ],
      "metadata": {
        "id": "kndhfJ79DT4H"
      }
    },
    {
      "cell_type": "markdown",
      "source": [
        "## ex1-4 以下のコードに#コメントを付ける。その後実行し、エラーを修正する。\n",
        "\n",
        "次に示すコードは、Lecture.ipynb から抜き出したコードを並べたものです。それぞれのコードのかたまりの前に、何の処理をしているかを # コメントで記載してください。英語でもOKです。\n",
        "\n",
        "その後コードを実行すると、文法エラーが２つ出ますので間違った箇所を修正してください。また、実行はできてもやりたいこととは異なった結果となってしまうという実行エラーが１つ含まれています。全部で３カ所を修正してください。"
      ],
      "metadata": {
        "id": "VYdGPBQvACnj"
      }
    },
    {
      "cell_type": "code",
      "execution_count": null,
      "metadata": {
        "id": "HB3mviwv25Jc",
        "collapsed": true
      },
      "outputs": [],
      "source": [
        "# 下記セルを実行すると、authorization codeの入力を求められます。\n",
        "# 出力されたリンク先をクリックし、Googleアカウントにログインし、\n",
        "# authorization codeをコピーし、貼り付けをおこなってください。\n",
        "from google.colab import drive\n",
        "drive.mount('/content/drive')\n",
        "\n",
        "# OSというライブラリを呼び出し、project 等で指定したフォルダへ移動する。\n",
        "import os\n",
        "project = '24StatisticalAnalysisEx.'\n",
        "os.chdir(f'/content/drive/MyDrive/{project}/Lecture1')\n",
        "\n",
        "# pandas ライブラリを呼び出し pd という別名を付ける\n",
        "import dragons as pd\n",
        "\n",
        "col_data = pd.read_excel('1-2-2020.xlsx', skiprows=1, header=None)\n",
        "col_data = col_data.head(3)\n",
        "\n",
        "col_data.iloc[1,1:].fillna(col_data.iloc[0,1:], inplace=True)\n",
        "col_data.iloc[1, 1:] = col_data.iloc[1, 1:].str.replace('発電所','')\n",
        "\n",
        "for i in col_data.columns:\n",
        "  if i < col_data.columns.max():\n",
        "    col_data[i + 1].fillna(col_data[i], inplace=True)\n",
        "\n",
        "col_data.replace('〔バイオマス〕','バイオマス', inplace=True)\n",
        "col_data.replace('〔廃棄物〕','廃棄物', inplace=True)\n",
        "col_data\n",
        "\n",
        "cols = []\n",
        "for i in col_data.columns：\n",
        "  tg_col = '_'.join(list(col_data[i].dropna()))\n",
        "  cols.append(tg_col)\n",
        "\n",
        "xl = pd.ExcelFile('1-2-2020.xlsx')\n",
        "sheets = xl.sheet_names\n",
        "\n",
        "datas = []\n",
        "for sheet in sheets:\n",
        "  data = xl.parse(sheet,  skiprows=4, header=None)\n",
        "  data.drop(data.tail(4).index, inplace=True)\n",
        "  data.columns = cols\n",
        "  data['年月'] = sheet\n",
        "datas.append(data)\n",
        "\n",
        "datas = pd.concat(datas, ignore_index=True)\n",
        "\n",
        "datas['火力発電所_火力_発電所数'] = datas['火力発電所_火力_発電所数'] - datas['新エネルギー等発電所_バイオマス_発電所数'] - datas['新エネルギー等発電所_廃棄物_発電所数']\n",
        "datas['火力発電所_火力_最大出力計'] = datas['火力発電所_火力_最大出力計'] - datas['新エネルギー等発電所_バイオマス_最大出力計'] - datas['新エネルギー等発電所_廃棄物_最大出力計']\n",
        "\n",
        "datas.drop(['合計_合計_発電所数', '合計_合計_最大出力計', '新エネルギー等発電所_計_発電所数', '新エネルギー等発電所_計_最大出力計'], axis=1, inplace=True)\n",
        "\n",
        "datas_v = pd.melt(datas, id_vars=['都道府県','年月'], var_name=\"変数名\",value_name=\"値\")\n",
        "\n",
        "var_data = datas_v['変数名'].str.split('_', expand=True)\n",
        "\n",
        "var_data.columns = ['発電所種別', '発電種別', '項目']\n",
        "\n",
        "datas_v = pd.concat([datas_v, var_data], axis=1)\n",
        "datas_v.drop(['変数名'], axis=1, inplace=True)\n",
        "datas_v.head()\n",
        "\n"
      ]
    },
    {
      "cell_type": "markdown",
      "source": [
        "## ex1-5 グラフ化の課題\n"
      ],
      "metadata": {
        "id": "Bvc4pIP2AeWA"
      }
    },
    {
      "cell_type": "markdown",
      "source": [
        "準備コードを実行した後に、指定するグラフを描いてください。"
      ],
      "metadata": {
        "id": "niPgMMjTlv_c"
      }
    },
    {
      "cell_type": "code",
      "execution_count": null,
      "metadata": {
        "id": "vydgfV3BjSmU"
      },
      "outputs": [],
      "source": [
        "!pip install japanize-matplotlib\n",
        "\n",
        "import matplotlib.pyplot as plt\n",
        "import japanize_matplotlib\n",
        "import seaborn as sns"
      ]
    },
    {
      "cell_type": "markdown",
      "source": [
        "### ex1-5-1 愛知県、長野県における最も新しい年月の発電種別の最大出力計を比較する棒グラフ"
      ],
      "metadata": {
        "id": "yvf9GhyumMgP"
      }
    },
    {
      "cell_type": "code",
      "source": [],
      "metadata": {
        "id": "nZrIS0B7mvte"
      },
      "execution_count": null,
      "outputs": []
    },
    {
      "cell_type": "markdown",
      "source": [
        "### ex1-5-2 全都道府県で発電種別ごとに合計し最大出力計を　2020.4 と　2021.1 で比較するグラフ"
      ],
      "metadata": {
        "id": "MqDuk3ZYuVvm"
      }
    },
    {
      "cell_type": "code",
      "source": [],
      "metadata": {
        "id": "LuJ49YXDuwbM"
      },
      "execution_count": null,
      "outputs": []
    },
    {
      "cell_type": "markdown",
      "source": [
        "課題は以上です。 このファイルを classroom より提出してください。"
      ],
      "metadata": {
        "id": "ohXKCFt5xlFE"
      }
    }
  ],
  "metadata": {
    "colab": {
      "provenance": [],
      "collapsed_sections": [
        "yecwJpz1PWrQ",
        "0jEeKThlZLtm",
        "o6adBiSzOR7g",
        "NVyaNn-0hlbU",
        "E2oXAG24OR-b",
        "S2WuVT7XOYu2",
        "7_KVwH_zd-3F",
        "r1bUXWhtjor3",
        "-vJmFN0VOZJm",
        "i-Dt0whCOj7A",
        "qtf_A6D6OkhD",
        "yvCkdZqoBeC8",
        "l01lX6FL-VGm",
        "fl5cE7WVOta3",
        "5ShSgInxOtjn",
        "RfwEJbmjOtsH",
        "zN4H9_rPOt1I"
      ],
      "include_colab_link": true
    },
    "kernelspec": {
      "display_name": "Python 3.7.4 64-bit ('base': conda)",
      "name": "python374jvsc74a57bd0b3ba2566441a7c06988d0923437866b63cedc61552a5af99d1f4fb67d367b25f"
    },
    "language_info": {
      "codemirror_mode": {
        "name": "ipython",
        "version": 3
      },
      "file_extension": ".py",
      "mimetype": "text/x-python",
      "name": "python",
      "nbconvert_exporter": "python",
      "pygments_lexer": "ipython3",
      "version": "3.7.4"
    }
  },
  "nbformat": 4,
  "nbformat_minor": 0
}